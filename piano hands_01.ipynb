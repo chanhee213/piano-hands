{
 "cells": [
  {
   "cell_type": "markdown",
   "metadata": {},
   "source": [
    "랜드마크 전체 인식"
   ]
  },
  {
   "cell_type": "code",
   "execution_count": 5,
   "metadata": {},
   "outputs": [],
   "source": [
    "import cv2 as cv\n",
    "import numpy as np\n",
    "import mediapipe as mp\n",
    "cap = cv.VideoCapture(0)\n",
    "cap = cv.VideoCapture(0, cv.CAP_DSHOW)\n",
    "\n",
    "mp_hand = mp.solutions.hands\n",
    "mp_drawing = mp.solutions.drawing_utils\n",
    "mp_styles = mp.solutions.drawing_styles\n",
    "\n",
    "hand = mp_hand.Hands(max_num_hands=2, static_image_mode=False, min_detection_confidence=0.5, min_tracking_confidence=0.5)\n",
    "\n",
    "\n",
    "\n",
    "# 로고 이미지 읽고 크기 조정\n",
    "logo = cv.imread('C:/chan/piano p/piano.png')\n",
    "frame_width = int(cap.get(3)) # 3은 CAP_PROP_FRAME_WIDTH를 나타내며, 프레임의 가로 길이\n",
    "frame_height = int(cap.get(4)) # # 4는 CAP_PROP_FRAME_HEIGHT를 나타내며, 프레임의 세로 길이\n",
    "logo_width = frame_width\n",
    "logo_height = int(logo.shape[0] * (logo_width / logo.shape[1]))\n",
    "logo_size = (logo_width, logo_height)\n",
    "logo = cv.resize(logo, logo_size)\n",
    "\n",
    "# 로고 이미지에 대한 마스크 생성\n",
    "logo_gray = cv.cvtColor(logo, cv.COLOR_BGR2GRAY)\n",
    "_, mask = cv.threshold(logo_gray, 1, 255, cv.THRESH_BINARY_INV) # 로고 이미지의 흑백 이미지에서 임계값(threshold)을 기준으로 이진화된 마스크(mask)를 생성\n",
    "\n",
    "# 세로 초록색 선의 좌표 계산\n",
    "segment_width = frame_width / 14\n",
    "\n",
    "segment_coordinates = [i * segment_width for i in range(1, 14)]\n",
    "\n",
    "# 노란색 선의 y 좌표 설정\n",
    "line_y1 = 280  # 첫 번째 y값\n",
    "line_y2 = 480  # 두 번째 y값\n",
    "\n",
    "while True:\n",
    "    ret, frame = cap.read()\n",
    "\n",
    "    # 웹캠 화면 가장 아래에 로고 이미지 합성\n",
    "    roi = frame[-logo_height:, :, :]\n",
    "    roi[np.where(mask)] = 0\n",
    "    roi += logo\n",
    "\n",
    "    res = hand.process(cv.cvtColor(frame, cv.COLOR_BGR2RGB))\n",
    "\n",
    "    if res.multi_hand_landmarks: # 프레임에서 손 랜드마크가 감지되었는지를 확인\n",
    "        for hand_landmarks in res.multi_hand_landmarks:\n",
    "            for landmark in hand_landmarks.landmark:\n",
    "                x = int(landmark.x * frame_width)\n",
    "                y = int(landmark.y * frame_height)\n",
    "\n",
    "                if line_y1 <= y <= line_y2:\n",
    "                    for i in range(len(segment_coordinates)):\n",
    "                        if x >= segment_coordinates[i] and x <= segment_coordinates[i] + segment_width:\n",
    "                            cv.circle(frame, (x, y), 5, (0, 255, 255), -1)\n",
    "                            overlay = frame.copy()\n",
    "                            cv.rectangle(overlay, (int(segment_coordinates[i]), line_y1),\n",
    "                                          (int(segment_coordinates[i] + segment_width), line_y2),\n",
    "                                          (0, 255, 255), -1)\n",
    "                            alpha = 0.3  # 불투명도 값 설정 (0.0 ~ 1.0)\n",
    "                            cv.addWeighted(overlay, alpha, frame, 1 - alpha, 0, frame)\n",
    "                            break\n",
    "\n",
    "    cv.imshow('WebCam', cv.flip(frame, 1))\n",
    "\n",
    "    if cv.waitKey(1) == ord('q'):\n",
    "        break\n",
    "\n",
    "cap.release()\n",
    "cv.destroyAllWindows()\n"
   ]
  }
 ],
 "metadata": {
  "kernelspec": {
   "display_name": "Python 3",
   "language": "python",
   "name": "python3"
  },
  "language_info": {
   "codemirror_mode": {
    "name": "ipython",
    "version": 3
   },
   "file_extension": ".py",
   "mimetype": "text/x-python",
   "name": "python",
   "nbconvert_exporter": "python",
   "pygments_lexer": "ipython3",
   "version": "3.9.17"
  },
  "nbTranslate": {
   "displayLangs": [
    "*"
   ],
   "hotkey": "alt-t",
   "langInMainMenu": true,
   "sourceLang": "en",
   "targetLang": "fr",
   "useGoogleTranslate": true
  },
  "toc": {
   "base_numbering": 1,
   "nav_menu": {},
   "number_sections": true,
   "sideBar": true,
   "skip_h1_title": false,
   "title_cell": "Table of Contents",
   "title_sidebar": "Contents",
   "toc_cell": false,
   "toc_position": {
    "height": "calc(100% - 180px)",
    "left": "10px",
    "top": "150px",
    "width": "303.78px"
   },
   "toc_section_display": true,
   "toc_window_display": true
  },
  "varInspector": {
   "cols": {
    "lenName": 16,
    "lenType": 16,
    "lenVar": 40
   },
   "kernels_config": {
    "python": {
     "delete_cmd_postfix": "",
     "delete_cmd_prefix": "del ",
     "library": "var_list.py",
     "varRefreshCmd": "print(var_dic_list())"
    },
    "r": {
     "delete_cmd_postfix": ") ",
     "delete_cmd_prefix": "rm(",
     "library": "var_list.r",
     "varRefreshCmd": "cat(var_dic_list()) "
    }
   },
   "types_to_exclude": [
    "module",
    "function",
    "builtin_function_or_method",
    "instance",
    "_Feature"
   ],
   "window_display": false
  }
 },
 "nbformat": 4,
 "nbformat_minor": 2
}
